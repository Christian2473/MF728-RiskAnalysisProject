{
 "cells": [
  {
   "cell_type": "code",
   "execution_count": 2,
   "id": "4642143b",
   "metadata": {},
   "outputs": [
    {
     "name": "stdout",
     "output_type": "stream",
     "text": [
      "/Users/Christian/Desktop/MSMFT/Semester 2/Fixed Income/MF728-RiskAnalysisProject/Data/CouponBonds/CouponBondData\n"
     ]
    }
   ],
   "source": [
    "%cd CouponBondData/"
   ]
  },
  {
   "cell_type": "code",
   "execution_count": null,
   "id": "04d4e2ef",
   "metadata": {},
   "outputs": [
    {
     "name": "stdout",
     "output_type": "stream",
     "text": [
      "      Unnamed: 0                       Unnamed: 1\n",
      "0        Company  Jersey Central Power & Light Co\n",
      "1         Ticker                               FE\n",
      "2          CUSIP                   476556CX1 Corp\n",
      "3         Rating                             BBB+\n",
      "4     Issue Date              2007-12-13 00:00:00\n",
      "5  Maturity Date              2037-06-01 00:00:00\n",
      "6        Coupon                              6.15\n"
     ]
    }
   ],
   "source": [
    "from DataOrganization import *\n",
    "\n",
    "def combine_files() -> None:\n",
    "    mainwd = Path.cwd()\n",
    "\n",
    "    for paths in mainwd.iterdir():\n",
    "        with open_folder(paths):\n",
    "            folder_path = Path.cwd()\n",
    "\n",
    "            for csv in folder_path.iterdir():\n",
    "                df = pd.read_csv(csv)\n",
    "\n",
    "                #creating the info dataframe\n",
    "                df_info = df.head(8).dropna(axis=1, how='all').dropna(axis=0, how='all')  # Drop rows and columns that are completely empty\n",
    "                df_price_yield = df.tail(-8)  # Drop columns that are completely empty\n",
    "\n",
    "                # Creating the price and yield dataframe\n",
    "                df_price_yield.columns = list(df_price_yield.iloc[0]) # Set the first row as column names\n",
    "                df_price_yield = df_price_yield.reset_index(drop=True)\n",
    "                df_price_yield.drop(0, inplace=True)  # Drop the first row which is now redundant\n",
    "\n",
    "                print(df_info)\n",
    "\n",
    "                break\n",
    "            break\n",
    "combine_files()"
   ]
  },
  {
   "cell_type": "code",
   "execution_count": null,
   "id": "c96f2ec7",
   "metadata": {},
   "outputs": [],
   "source": []
  }
 ],
 "metadata": {
  "kernelspec": {
   "display_name": "base",
   "language": "python",
   "name": "python3"
  },
  "language_info": {
   "codemirror_mode": {
    "name": "ipython",
    "version": 3
   },
   "file_extension": ".py",
   "mimetype": "text/x-python",
   "name": "python",
   "nbconvert_exporter": "python",
   "pygments_lexer": "ipython3",
   "version": "3.12.2"
  }
 },
 "nbformat": 4,
 "nbformat_minor": 5
}
