{
 "cells": [
  {
   "cell_type": "code",
   "execution_count": 3,
   "id": "4642143b",
   "metadata": {},
   "outputs": [
    {
     "name": "stdout",
     "output_type": "stream",
     "text": [
      "/Users/Christian/Desktop/MSMFT/Semester 2/Fixed Income/MF728-RiskAnalysisProject/Data/CouponBonds/CouponBondData\n"
     ]
    }
   ],
   "source": [
    "%cd CouponBondData/"
   ]
  },
  {
   "cell_type": "code",
   "execution_count": null,
   "id": "04d4e2ef",
   "metadata": {},
   "outputs": [
    {
     "name": "stderr",
     "output_type": "stream",
     "text": [
      "/var/folders/49/1jq9sd950fg6397s7sm972380000gn/T/ipykernel_35000/2650899376.py:15: DtypeWarning: Columns (1,2,3,4,5,6,7,8,9,10,11,12,13,14,15,16,17,18,19) have mixed types. Specify dtype option on import or set low_memory=False.\n",
      "  df = pd.read_csv(csv)\n",
      "/var/folders/49/1jq9sd950fg6397s7sm972380000gn/T/ipykernel_35000/2650899376.py:15: DtypeWarning: Columns (1,2,3,4,5,6,7,8,9,10,11,12,13,14,15,16,17,18,19) have mixed types. Specify dtype option on import or set low_memory=False.\n",
      "  df = pd.read_csv(csv)\n"
     ]
    }
   ],
   "source": [
    "from DataOrganization import *\n",
    "import datetime as dt\n",
    "\n",
    "def combine_files() -> None:\n",
    "    mainwd = Path.cwd()\n",
    "\n",
    "    for paths in mainwd.iterdir():\n",
    "        with open_folder(paths):\n",
    "            folder_path = Path.cwd()\n",
    "\n",
    "            price_df = pd.DataFrame()\n",
    "            yield_df = pd.DataFrame()\n",
    "\n",
    "            for i, csv in enumerate(folder_path.iterdir()):\n",
    "                df = pd.read_csv(csv)\n",
    "\n",
    "                #creating the info dataframe\n",
    "                df_info = df.head(8).dropna(axis=1, how='all').dropna(axis=0, how='all')  # Drop rows and columns that are completely empty\n",
    "                df_info = df_info.transpose().reset_index(drop=True) # Set the first column as index\n",
    "                df_info.columns = df_info.iloc[0]  # Set the first row as column names\n",
    "                df_info = df_info.drop(df_info.index[0])  # Drop the first row which is now redundant   \n",
    "                df_info = df_info.squeeze()  # Convert the DataFrame to a Series\n",
    "                df_info.index.name = None\n",
    "                df_info.name = df_info[\"Company\"]\n",
    "                \n",
    "                df_info[\"Maturity Date\"] = dt.datetime.strptime(df_info[\"Maturity Date\"].split(\" \")[0], \"%Y-%m-%d\")  # Remove spaces from the \"Issue Date\" column\n",
    "                df_info[\"Issue Date\"] = dt.datetime.strptime(df_info[\"Issue Date\"].split(\" \")[0], \"%Y-%m-%d\")  # Remove spaces from the \"Issue Date\" column\n",
    "                df_info[\"Tenor (days)\"] = (df_info[\"Maturity Date\"] - df_info[\"Issue Date\"]).days\n",
    "\n",
    "                # Creating the price and yield dataframe\n",
    "                df_price_yield = df.tail(-8)  # Drop columns that are completely empty\n",
    "                df_price_yield.columns = list(df_price_yield.iloc[0]) # Set the first row as column names\n",
    "                df_price_yield = df_price_yield.reset_index(drop=True)\n",
    "                df_price_yield.drop(0, inplace=True)  # Drop the first row which is now redundant\n",
    "                df_price_yield.set_index('Date', inplace=True)  # Set the first column as index\n",
    "\n",
    "                #setting up the two dataframes\n",
    "                yield_df_temp = pd.concat([df_info, df_price_yield[\"Mid YTM\"]], ignore_index=False)\n",
    "                price_df_temp = pd.concat([df_info, df_price_yield[\"Mid Price\"]], ignore_index=False)\n",
    "\n",
    "                #naming the columns\n",
    "                yield_df_temp.name = yield_df_temp[\"CUSIP\"]\n",
    "                price_df_temp.name = price_df_temp[\"CUSIP\"]\n",
    "\n",
    "                # Changing to dataframes\n",
    "                yield_df_temp = yield_df_temp.to_frame()\n",
    "                price_df_temp = price_df_temp.to_frame()\n",
    "\n",
    "                # Concatenate the dataframes\n",
    "                if i == 0:\n",
    "                    price_df = price_df_temp\n",
    "                    yield_df = yield_df_temp\n",
    "                else:\n",
    "                    price_df = price_df.join(price_df_temp, how='inner', rsuffix=f\"_{i}\")\n",
    "                    \n",
    "                    yield_df = yield_df.join(yield_df_temp, how='inner', rsuffix=f\"_{i}\")\n",
    "\n",
    "            # Dropping the CUSIP column\n",
    "            # price_df.drop(\"CUSIP\", axis=0, inplace=True)\n",
    "            # yield_df.drop(\"CUSIP\", axis=0, inplace=True)\n",
    "\n",
    "            # Saving the dataframes\n",
    "            # print(folder_path)\n",
    "            # os.remove(folder_path / f\"Price_{folder_path.name}.csv\")\n",
    "            # os.remove(folder_path / f\"Yield_{folder_path.name}.csv\")\n",
    "combine_files()"
   ]
  },
  {
   "cell_type": "code",
   "execution_count": null,
   "id": "c96f2ec7",
   "metadata": {},
   "outputs": [],
   "source": []
  },
  {
   "cell_type": "code",
   "execution_count": null,
   "id": "46338d04",
   "metadata": {},
   "outputs": [],
   "source": []
  }
 ],
 "metadata": {
  "kernelspec": {
   "display_name": "base",
   "language": "python",
   "name": "python3"
  },
  "language_info": {
   "codemirror_mode": {
    "name": "ipython",
    "version": 3
   },
   "file_extension": ".py",
   "mimetype": "text/x-python",
   "name": "python",
   "nbconvert_exporter": "python",
   "pygments_lexer": "ipython3",
   "version": "3.12.2"
  }
 },
 "nbformat": 4,
 "nbformat_minor": 5
}
